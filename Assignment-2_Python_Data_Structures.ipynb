{
 "cells": [
  {
   "cell_type": "markdown",
   "id": "9b78c71f-3bb2-4f29-95c9-857714f376b7",
   "metadata": {},
   "source": [
    "## Assignment-2: Python Data Structures\n",
    "\n",
    "#### Q1. How do you comment code in Python? What are the different types of comments?\n",
    "#### Q2. What are variables in Python? How do you declare and assign values to variables?\n",
    "#### Q3. How do you convert one data type to another in Python?\n",
    "#### Q4. How do you write and execute a Python script from the command line?\n",
    "#### Q5. Given a list my_list = [1, 2, 3, 4, 5], write the code to slice the list and obtain the sub-list [2, 3].\n",
    "#### Q6. What is a complex number in mathematics, and how is it represented in Python?\n",
    "#### Q7. What is the correct way to declare a variable named age and assign the value 25 to it?\n",
    "#### Q8. Declare a variable named price and assign the value 9.99 to it. What data type does this variable belong to?\n",
    "#### Q9. Create a variable named name and assign your full name to it as a string. How would you print the value of this variable?\n",
    "#### Q10. Given the string \"Hello, World!\", extract the substring \"World\".\n",
    "#### Q11. Create a variable named \"is_student\" and assign it a boolean value indicating whether you are currently a student or not."
   ]
  },
  {
   "cell_type": "markdown",
   "id": "605d6f7f-1258-4379-a0cb-1b8fe22d605a",
   "metadata": {},
   "source": [
    "### Q1. How do you comment code in Python? What are the different types of comments?\n",
    "\n",
    "### Ans.\n",
    "    In Python, you can add comments to your code using the '#' character. There are two main types of comments in Python:\n",
    "\n",
    "    1. Single-line comments: Single-line comments are created using the '#' character.\n",
    "    Everything following the '#' on that line is considered a comment.\n",
    "            \n",
    "            Example : # This is a single-line comment\n",
    "                      print(\"Hello, World!\")  # This is also a comment at the end of a line\n",
    "    \n",
    "    2. Multi-line comments (Docstrings): Multi-line comments are often referred to as docstrings. Docstrings are enclosed in triple-quotes (''' or \"\"\") and are used to provide documentation for functions, classes, and modules.\n",
    "            Example : \n",
    "                        '''This is a multi-line comment (docstring)It can have multiple lines and is often used to document functions and modules.'''\n",
    "                        def example_function():\n",
    "                                \"\"\"This is also a docstring.\"\"\"\n",
    "                                print(\"Example function\")\n",
    "\n",
    "    **Note**: While triple-quotes are commonly used for docstrings, they are not technically comments. Docstrings are a form of documentation and are accessible at runtime using the .__doc__ attribute."
   ]
  },
  {
   "cell_type": "markdown",
   "id": "30711e1a-1e16-4e9f-80eb-6f9e6774696d",
   "metadata": {},
   "source": [
    "### Q2. What are variables in Python? How do you declare and assign values to variables?\n",
    "\n",
    "### Ans.\n",
    "    In Python, a variable is a symbolic name that is used to store and reference data. Variables are essentially containers for values, and they allow you to manipulate data in your programs. The way to declare and assign values to variables in Python is given below:\n",
    "        \n",
    "    Declaration and Assignment:\n",
    "        1. Variable Naming Rules: \n",
    "            * Name must start with a letter (a-z, A-Z) or an underscore ('_').\n",
    "            * Other characters can be letters, numbers or underscores.\n",
    "            * Variable names are case-sensitive ('my_var' is different from 'my_Var')\n",
    "\n",
    "        2. Declaration and Assignment:\n",
    "            * We need not to explicitly declare a variable's type in Python; the interpreter dynamically infers the type.\n",
    "            * To assign a value to a variable, use the '=' operator. \n",
    "\n",
    "            Examples: \n",
    "                var1 = 23\n",
    "                var2 = 'PWSkills'\n",
    "                sum = var1 + 22\n"
   ]
  },
  {
   "cell_type": "markdown",
   "id": "83ca0823-8338-49d3-9f6d-4a06a5affb26",
   "metadata": {},
   "source": [
    "### Q3. How do you convert one data type to another in Python?\n",
    "\n",
    "### Ans. \n",
    "    Python is having type conversion functions for this. Below are some common type conversion functions:\n",
    "\n",
    "    1. 'int()' : Converts a value to an integer.\n",
    "\n",
    "            Example: \n",
    "                    float_number = 23.3\n",
    "                    int_number = int(float_number) \n",
    "                    print(int_number)\n",
    "\n",
    "            Output:\n",
    "                    23\n",
    "\n",
    "    2. 'float()' : Converts a value to an integer.\n",
    "\n",
    "            Example: \n",
    "                    int_number = 500.43434\n",
    "                    float_number = float(int_number) \n",
    "                    print(float_number)\n",
    "\n",
    "            Output:\n",
    "                    500\n",
    "    3. 'str()' : Convert a value to a string.\n",
    "\n",
    "            Example: \n",
    "                    int_number = 500.43434\n",
    "                    s_str = str(int_number) \n",
    "                    print(s_str , type(s_str))\n",
    "\n",
    "            Output:\n",
    "                    500.43434 <class 'str'>\n",
    "\n",
    "    4. 'list()' : Converts a sequence (e.g. tuple, string) into a list.\n",
    "\n",
    "            Example: \n",
    "                    tuple_data = (1,2,3)\n",
    "                    list_data = list(tuple_data)\n",
    "\n",
    "                    print(list_data, type(list_data) )\n",
    "                \n",
    "            Output:\n",
    "                    [1, 2, 3] <class 'list'>\n",
    "\n",
    "    5. 'tuple()' : Converts a sequence ( e.g. list, string) to a tuple.\n",
    "\n",
    "            Ex: \n",
    "                str1 = 'PWSkills'\n",
    "                tuple_1 = tuple(str1)\n",
    "                print(tuple_1, type(tuple_1) )\n",
    "\n",
    "            O/p:\n",
    "                ('P', 'W', 'S', 'k', 'i', 'l', 'l', 's') <class 'tuple'>\n",
    "\n",
    "    6. 'bool()' : Converts a value to a boolean.\n",
    "\n",
    "            Ex: list_1 = 'PWSkills'\n",
    "                bool_1 = bool(list_1)\n",
    "\n",
    "                print(bool_1, type(bool_1) )\n",
    "                "
   ]
  },
  {
   "cell_type": "markdown",
   "id": "2ab31818-2a6a-4edc-983b-62386086cc40",
   "metadata": {},
   "source": [
    "### Q4. How do you write and execute a Python script from the command line?\n",
    "\n",
    "### Ans.\n",
    "    Writing and executing a Python script from the command line involves several steps. These are given below:\n",
    "        1. Write Python Script: \n",
    "            * Create a new text file with a '.py' extension (e.g. 'myscript.py')\n",
    "            * Write Python code in this file using a text editor or an integrated development environment (IDE).\n",
    "        2. Open Command Prompt ( Windows) or Terminal (Mac/Linux):\n",
    "            * Open command prompt or terminal. We can usually find these applications in the 'Accessories' or 'Utilities' folder of our operating system.\n",
    "        3. Navigate to the Directory containing python script.\n",
    "        4. Execute the python script as:\n",
    "            * python myscript.py\n",
    "            * For Python 3 use:\n",
    "                python3 myscript.py\n",
    "            \n",
    "        \n",
    "    "
   ]
  },
  {
   "cell_type": "markdown",
   "id": "35db45a2-129e-40f0-904c-2783c914fbb5",
   "metadata": {},
   "source": [
    "### Q5. Given a list my_list = [1, 2, 3, 4, 5], write the code to slice the list and obtain the sub-list [2, 3].\n",
    "\n",
    "### Ans. \n",
    "    We can use below code to get sub-list \n",
    "        my_list = [1,2,3,4,5]\n",
    "\n",
    "        sub_list = my_list [1:3]\n",
    "    "
   ]
  },
  {
   "cell_type": "markdown",
   "id": "e660562e-0748-4708-860c-0656a9c5a0fa",
   "metadata": {},
   "source": [
    "### Q6. What is a complex number in mathematics, and how is it represented in Python?\n",
    "\n",
    "### Ans. \n",
    "    Complex numbers are expressed as a + bi, where 'a' and 'b' are real numbers, and i is the imaginary unit, which satisfies the equation i2 = -1. The real part 'a' represents the real portion of the complex number, while the imaginary part 'b' represents the imaginary portion.\n",
    "\n",
    "    In Python, complex number are represented using the 'complex' data type. You can create a complex number by specifying the real and imaginary parts, separated by a '+' sign and followed by the letter 'j' to denote the imaginary unit. Here's an example:\n",
    "        x = 3 + 4j\n",
    "    In above example, 3 represents the real number and 4 represents the imaginary number. Python uses 'j' to represent the imaginary unit.\n",
    "\n",
    "    We can also use 'complex()' to create Complex numbers in python, passing real and imaginary parts as arguments.\n",
    "        z = complex(3,4)\n",
    "\n",
    "    Complex numbers are a fundamental part of Python's numerical and mathematical capabilities, and they are widely used in scientific computing, engineering, and other fields."
   ]
  },
  {
   "cell_type": "markdown",
   "id": "17cf28be-a8e3-4ee0-8b10-265b1f801604",
   "metadata": {},
   "source": [
    "### Q7. What is the correct way to declare a variable named age and assign the value 25 to it?\n",
    "\n",
    "### Ans.\n",
    "    The correct way to declare a variable named 'age' and assign the value '25' to it in Python is as follows:\n",
    "        age = 25\n",
    "\n",
    "    In Python we need not to specify the data type of that variable explicitly. The interpreter dynamically infer the data type based on the assigned value."
   ]
  },
  {
   "cell_type": "markdown",
   "id": "739b4160-1e2e-4318-8caf-13bdcf234f8b",
   "metadata": {},
   "source": [
    "### Q8. Declare a variable named price and assign the value 9.99 to it. What data type does this variable belong to?\n",
    "\n",
    "### Ans.\n",
    "    Declaring variable as:\n",
    "        price = 9.99\n",
    "\n",
    "    Find data type as:\n",
    "        print(type(price))\n",
    "\n",
    "    O/P:\n",
    "        <class 'float'>"
   ]
  },
  {
   "cell_type": "markdown",
   "id": "4d94dc9f-6b2c-4d20-b80e-6f16203f490e",
   "metadata": {},
   "source": [
    "### Q9. Create a variable named name and assign your full name to it as a string. How would you print the value of this variable?\n",
    "\n",
    "### Ans.\n",
    "    #Create a variable named name and assign your full name to it as a string\n",
    "    name = 'Vishal Panwar'\n",
    "\n",
    "    #Printing name variable from above\n",
    "    print(name)"
   ]
  },
  {
   "cell_type": "markdown",
   "id": "93750fc1-78f4-4e84-8188-a758e1374454",
   "metadata": {},
   "source": [
    "### Q10. Given the string \"Hello, World!\", extract the substring \"World\".\n",
    "\n",
    "### Ans. \n",
    "    We use variable 'a' to store the string and slice it in variable 'c' and get 'World'.\n",
    "    a = \"Hello, World!\"\n",
    "    c = a[7:-1]\n",
    "    print(c)"
   ]
  },
  {
   "cell_type": "markdown",
   "id": "01725cb2-afc8-4eb7-914e-91145d0e7728",
   "metadata": {},
   "source": [
    "### Q11. Create a variable named \"is_student\" and assign it a boolean value indicating whether you are currently a student or not.\n",
    "\n",
    "### Ans.\n",
    "    Creating a variable named 'is_student' and assign it a boolean value as True for indicate student status.\n",
    "    is_student = True\n",
    "\n",
    "    print('Currently a Student: ', is_student )\n"
   ]
  },
  {
   "cell_type": "code",
   "execution_count": 11,
   "id": "acb030e2-b061-4205-b6e3-b1e11c4a7973",
   "metadata": {},
   "outputs": [
    {
     "name": "stdout",
     "output_type": "stream",
     "text": [
      "Is Student:  True\n"
     ]
    }
   ],
   "source": []
  },
  {
   "cell_type": "code",
   "execution_count": null,
   "id": "4844776e-377f-4927-aa9d-30865f4f83db",
   "metadata": {},
   "outputs": [],
   "source": []
  }
 ],
 "metadata": {
  "kernelspec": {
   "display_name": "Python 3 (ipykernel)",
   "language": "python",
   "name": "python3"
  },
  "language_info": {
   "codemirror_mode": {
    "name": "ipython",
    "version": 3
   },
   "file_extension": ".py",
   "mimetype": "text/x-python",
   "name": "python",
   "nbconvert_exporter": "python",
   "pygments_lexer": "ipython3",
   "version": "3.11.8"
  }
 },
 "nbformat": 4,
 "nbformat_minor": 5
}
